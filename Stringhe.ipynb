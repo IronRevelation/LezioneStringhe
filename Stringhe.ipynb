{
 "cells": [
  {
   "cell_type": "code",
   "execution_count": 1,
   "metadata": {},
   "outputs": [],
   "source": [
    "#include <iostream>\n",
    "using namespace std;"
   ]
  },
  {
   "cell_type": "markdown",
   "metadata": {},
   "source": [
    "# Le stringhe\n",
    "\n",
    "## Definizione:\n",
    "struttura dati **sequenziale** composta da una sequenza finita di **caratteri**, generalmente racchiusa fra virgolette o apici."
   ]
  },
  {
   "cell_type": "markdown",
   "metadata": {},
   "source": [
    "## le stringhe c-style:\n",
    " * array di char\n",
    " * dopo l'ultimo carattere è presente il carattere speciale \"\\0\""
   ]
  },
  {
   "cell_type": "code",
   "execution_count": 2,
   "metadata": {},
   "outputs": [
    {
     "name": "stdout",
     "output_type": "stream",
     "text": [
      "Ciao!"
     ]
    }
   ],
   "source": [
    "char saluto[] = \"Ciao!\";\n",
    "cout << saluto;"
   ]
  },
  {
   "cell_type": "markdown",
   "metadata": {},
   "source": [
    "Array di char: unico caso in cui stampare un array stampa il suo contenuto e non l'indirizzo.<br>\n",
    "Esempio:"
   ]
  },
  {
   "cell_type": "code",
   "execution_count": 3,
   "metadata": {},
   "outputs": [
    {
     "name": "stdout",
     "output_type": "stream",
     "text": [
      "0x7f91ffc61028"
     ]
    }
   ],
   "source": [
    "int numeri [] {2,3,4};\n",
    "cout << numeri;"
   ]
  },
  {
   "cell_type": "markdown",
   "metadata": {},
   "source": [
    "## metodi più comuni per gli array di char:\n",
    "* strlen([char]) : restituisce la lunghezza della stringa:"
   ]
  },
  {
   "cell_type": "code",
   "execution_count": 4,
   "metadata": {},
   "outputs": [
    {
     "name": "stdout",
     "output_type": "stream",
     "text": [
      "20"
     ]
    }
   ],
   "source": [
    "char frase[] = \"Luca mangia una mela\"; //20 caratteri\n",
    "cout << strlen(frase);"
   ]
  },
  {
   "cell_type": "markdown",
   "metadata": {},
   "source": [
    "* atoi(char[]) e atof(char[]) (array to integer e array to float)"
   ]
  },
  {
   "cell_type": "code",
   "execution_count": 5,
   "metadata": {},
   "outputs": [
    {
     "name": "stdout",
     "output_type": "stream",
     "text": [
      "1234\n",
      "12.345"
     ]
    }
   ],
   "source": [
    "char s1[] = \"1234\";\n",
    "char s2[] = \"12.345\";\n",
    "\n",
    "int n1 = atoi(s1);\n",
    "float n2 = atof(s2);\n",
    "\n",
    "cout << n1 << endl << n2;"
   ]
  },
  {
   "cell_type": "markdown",
   "metadata": {},
   "source": [
    "## gli array di char utilizzati come stringhe sono deprecati e vengono utilizzati solo per la compatibilità con funzioni che li richiedono. Sono stati sostituiti dalle stringhe della libreria <br> < string>"
   ]
  },
  {
   "cell_type": "code",
   "execution_count": 6,
   "metadata": {},
   "outputs": [
    {
     "name": "stderr",
     "output_type": "stream",
     "text": [
      "input_line_14:2:9: error: redefinition of 's1' with a different type: 'std::__cxx11::string' (aka 'basic_string<char>') vs 'char [5]'\n",
      " string s1 = \"sono una stringa\";\n",
      "        ^\n",
      "input_line_12:2:7: note: previous definition is here\n",
      " char s1[] = \"1234\";\n",
      "      ^\n"
     ]
    },
    {
     "ename": "Interpreter Error",
     "evalue": "",
     "output_type": "error",
     "traceback": [
      "Interpreter Error: "
     ]
    }
   ],
   "source": [
    "#include <string>\n",
    "\n",
    "string s1 = \"sono una stringa\";\n",
    "\n",
    "cout << s1;"
   ]
  }
 ],
 "metadata": {
  "kernelspec": {
   "display_name": "C++17",
   "language": "C++17",
   "name": "xcpp17"
  },
  "language_info": {
   "codemirror_mode": "text/x-c++src",
   "file_extension": ".cpp",
   "mimetype": "text/x-c++src",
   "name": "c++",
   "version": "17"
  }
 },
 "nbformat": 4,
 "nbformat_minor": 4
}
